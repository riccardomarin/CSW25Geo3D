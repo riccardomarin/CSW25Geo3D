{
  "cells": [
    {
      "cell_type": "markdown",
      "metadata": {
        "id": "TJS-KCItC1sQ"
      },
      "source": [
        "In this notebook we will play with visualizations and representations using some common python libraries. \\\n",
        "Two fundamental libraries are Open3D: https://www.open3d.org/ \\\n",
        "And trimesh: https://trimesh.org/ \\"
      ]
    },
    {
      "cell_type": "code",
      "execution_count": null,
      "metadata": {
        "id": "EehKxYbUK8t9"
      },
      "outputs": [],
      "source": [
        "## Useful 3D libraries not pre-installed in colab\n",
        "!pip install open3d\n",
        "!pip install trimesh"
      ]
    },
    {
      "cell_type": "markdown",
      "metadata": {
        "id": "QSHWTD8ILT9G"
      },
      "source": [
        "We will also need some 3D data."
      ]
    },
    {
      "cell_type": "code",
      "execution_count": null,
      "metadata": {
        "id": "9HlLVr1OLVq8"
      },
      "outputs": [],
      "source": [
        "## Download 3D data\n",
        "!git clone https://github.com/riccardomarin/CDG.git\n",
        "%cd CDG\n",
        "!git checkout iss53\n",
        "%cd ..\n",
        "!cp -r ./CDG/* .\n",
        "\n",
        "\n",
        "# Getting a mesh\n",
        "import os\n",
        "os.system('wget https://github.com/czh-98/REALY/raw/master/data/3DDFA_v2.obj')"
      ]
    },
    {
      "cell_type": "markdown",
      "metadata": {
        "id": "IFEhTI2OK_5L"
      },
      "source": [
        "Imports and utility functions"
      ]
    },
    {
      "cell_type": "code",
      "execution_count": null,
      "metadata": {
        "id": "KGs7tr2ABrJj"
      },
      "outputs": [],
      "source": [
        "%matplotlib inline\n",
        "\n",
        "## Imports\n",
        "import open3d as o3d\n",
        "import os\n",
        "import numpy as np\n",
        "import plotly.graph_objects as go\n",
        "from plotly.subplots import make_subplots\n",
        "import matplotlib.pyplot as plt\n",
        "from mpl_toolkits.mplot3d import Axes3D\n",
        "import numpy as np\n",
        "import skimage\n",
        "import scipy\n",
        "from scipy.sparse import csr_matrix\n",
        "import matplotlib.pyplot as plt\n",
        "from trimesh.visual import texture, TextureVisuals\n",
        "from trimesh import Trimesh\n",
        "from PIL import Image\n",
        "import torch\n",
        "\n",
        "\n",
        "## Utility functions to convert numpy arrays into Open3D types\n",
        "v3f = o3d.utility.Vector3dVector\n",
        "v3i = o3d.utility.Vector3iVector\n",
        "\n",
        "### Utility visualization function\n",
        "def plot_mesh(verts, trivs, colors=None, colorscale=[[0, 'rgb(0,0,255)'], [0.5, 'rgb(255,255,255)'], [1, 'rgb(255,0,0)']], point_size=2, wireframe=False):\n",
        "    \"Draw multiple triangle meshes side by side\"\n",
        "    \"colors must be list(range(num colors))\"\n",
        "    if type(verts) is not list:\n",
        "        verts = [verts]\n",
        "    if type(trivs) is not list:\n",
        "        trivs = [trivs]\n",
        "    if type(colors) is not list:\n",
        "        colors = [colors]\n",
        "    if type(verts[0]) == torch.Tensor:\n",
        "        to_np = lambda x: x.detach().cpu().numpy()\n",
        "        verts=[ to_np(v) for v in verts]\n",
        "\n",
        "\n",
        "    \"Check device for torch tensors\"\n",
        "    def to_cpu(v):\n",
        "        if torch.is_tensor(v):\n",
        "            return v.data.cpu()\n",
        "        return v;\n",
        "    verts = [to_cpu(x) for x in verts]\n",
        "    trivs = [to_cpu(x) for x in trivs]\n",
        "    colors = [to_cpu(x) for x in colors]\n",
        "\n",
        "\n",
        "    nshapes = min([len(verts), len(colors), len(trivs)])\n",
        "\n",
        "    fig = make_subplots(rows=1, cols=nshapes, specs=[[{'type': 'surface'} for i in range(nshapes)]])\n",
        "\n",
        "    for i, [vert, triv, col] in enumerate(zip(verts, trivs, colors)):\n",
        "        if triv is not None:\n",
        "            if col is not None:\n",
        "                mesh = go.Mesh3d(x=vert[:, 0], z=vert[:, 1], y=vert[:, 2],\n",
        "                                 i=triv[:, 0], j=triv[:, 1], k=triv[:, 2],\n",
        "                                 intensity=col,\n",
        "                                 colorscale=colorscale,\n",
        "                                 color='lightpink', opacity=1)\n",
        "            else:\n",
        "                mesh = go.Mesh3d(x=vert[:, 0], z=vert[:, 1], y=vert[:, 2],\n",
        "                                 i=triv[:, 0], j=triv[:, 1], k=triv[:, 2])\n",
        "        else:\n",
        "            if col is not None:\n",
        "                mesh = go.Scatter3d(x=vert[:, 0], z=vert[:, 1], y=vert[:, 2],\n",
        "                                    mode='markers',\n",
        "                                    marker=dict(\n",
        "                                        size=point_size,\n",
        "                                        color=col,  # set color to an array/list of desired values\n",
        "                                        colorscale='Viridis',\n",
        "                                        # choose a colorscale\n",
        "                                        opacity=1\n",
        "                                    ))\n",
        "            else:\n",
        "                mesh = go.Scatter3d(x=vert[:, 0], z=vert[:, 1], y=vert[:, 2],\n",
        "                                    mode='markers',\n",
        "                                    marker=dict(\n",
        "                                        size=point_size,  # set color to an array/list of desired values\n",
        "                                        colorscale='Viridis',  # choose a colorscale\n",
        "                                        opacity=1\n",
        "                                    ))\n",
        "\n",
        "        fig.add_trace(mesh, row=1, col=i + 1)\n",
        "        fig.get_subplot(1, i + 1).aspectmode = \"data\"\n",
        "\n",
        "        if wireframe and triv is not None:\n",
        "            tripts = vert[triv]\n",
        "            tripts = np.concatenate([tripts,tripts[:,0:1,:],tripts[:,0:1,:]*np.nan],1).reshape(-1,3)\n",
        "            lines = go.Scatter3d(\n",
        "                   x=tripts[:,0],\n",
        "                   y=tripts[:,2],\n",
        "                   z=tripts[:,1],\n",
        "                   mode='lines',\n",
        "                   name='',\n",
        "                   line=dict(color= '#000000', width=2))\n",
        "            fig.add_trace(lines, row=1, col=i + 1)\n",
        "\n",
        "        camera = dict(\n",
        "            up=dict(x=0, y=0, z=1),\n",
        "            center=dict(x=0, y=0, z=0),\n",
        "            eye=dict(x=0, y=4, z=-1)\n",
        "        )\n",
        "        fig.get_subplot(1, i + 1).camera = camera\n",
        "\n",
        "    #     fig = go.Figure(data=[mesh], layout=layout)\n",
        "    fig.update_layout(\n",
        "        #       autosize=True,\n",
        "        margin=dict(l=10, r=10, t=2, b=2))\n",
        "        #paper_bgcolor=\"LightSteelBlue\")\n",
        "    #fig.show()\n",
        "    return fig\n"
      ]
    },
    {
      "cell_type": "markdown",
      "metadata": {
        "id": "9Ax12PAI4rxM"
      },
      "source": [
        "## Load and visualize triangle meshes\n",
        "\n",
        "Method 1. Open3D is quick -- but on Colab rather limited (it is still an experimental feature)\n",
        "http://www.open3d.org/docs/release/python_api/open3d.visualization.draw_plotly.html"
      ]
    },
    {
      "cell_type": "code",
      "execution_count": null,
      "metadata": {
        "id": "KuGSShntB0Pc"
      },
      "outputs": [],
      "source": [
        "#@title {vertical-output: true}\n",
        "\n",
        "M = o3d.io.read_triangle_mesh('3DDFA_v2.obj')\n",
        "\n",
        "# I define a color for the vertices but his visualization does not support colors\n",
        "colors = np.asarray(M.vertices) * 0\n",
        "\n",
        "# Notice that open3d use its own data types.\n",
        "M.vertex_colors = v3f(colors)\n",
        "\n",
        "o3d.visualization.draw_plotly([M])"
      ]
    },
    {
      "cell_type": "markdown",
      "metadata": {
        "id": "4AoSHmq45eNB"
      },
      "source": [
        "This Open3D visualization runs on plotly which is a quite powerful library: https://plotly.com/ \\\n",
        " We can directly use it to visualize a point cloud"
      ]
    },
    {
      "cell_type": "code",
      "execution_count": null,
      "metadata": {
        "id": "8k93SOUZB4yc"
      },
      "outputs": [],
      "source": [
        "#@title {vertical-output: true}\n",
        "\n",
        "## Defining the points\n",
        "points = np.asarray(M.vertices)\n",
        "\n",
        "## Defining the colors\n",
        "colors = (points - np.min(points, axis=0))/(np.max(points, axis=0) - np.min(points, axis=0))\n",
        "\n",
        "#colors[:,[0,1]] = 0\n",
        "\n",
        "# Define a figure\n",
        "fig = go.Figure(\n",
        "  data=[\n",
        "\n",
        "      # Define the data in the figure -- We have a 3D point Cloud\n",
        "    go.Scatter3d(\n",
        "      x=points[:,0], y=points[:,1], z=points[:,2],\n",
        "      mode='markers',\n",
        "\n",
        "      # Points parameters: their size and their colors\n",
        "      marker=dict(size=1, color=colors)\n",
        ")\n",
        "]\n",
        "\n",
        "## Uncomment these to remove the axes\n",
        "#   ,\n",
        "#   layout=dict(\n",
        "#     scene=dict(\n",
        "#       xaxis=dict(visible=False),\n",
        "#       yaxis=dict(visible=False),\n",
        "#       zaxis=dict(visible=False)\n",
        "# )\n",
        "# )\n",
        ")\n",
        "fig.show()\n"
      ]
    },
    {
      "cell_type": "markdown",
      "metadata": {
        "id": "kAC16ZBR_Ny7"
      },
      "source": [
        "Another popular library is trimesh:\n",
        "https://trimesh.org/"
      ]
    },
    {
      "cell_type": "code",
      "execution_count": null,
      "metadata": {
        "id": "DAKpNCu05spo"
      },
      "outputs": [],
      "source": [
        "#@title {vertical-output: true}\n",
        "import trimesh\n",
        "\n",
        "# Defining faces and vertices\n",
        "v = np.asarray(points)\n",
        "f = np.asarray(M.triangles)\n",
        "tri = trimesh.Trimesh(v,f)\n",
        "\n",
        "s = trimesh.Scene()\n",
        "s.add_geometry(trimesh.creation.axis())\n",
        "s.add_geometry(tri)\n",
        "s.show()\n",
        "\n",
        "# It gives also an example of Back-face culling\n",
        "# https://en.wikipedia.org/wiki/Back-face_culling"
      ]
    },
    {
      "cell_type": "markdown",
      "metadata": {
        "id": "LfnbwDX9AUu8"
      },
      "source": [
        "# Computing Mesh statistics\n",
        "\n",
        "Open3D TriangleMesh object has two main attributes:\n",
        "1. Vertices\n",
        "2. Triangles\n",
        "\n",
        "but once you set them, you can also ask to obtain more property."
      ]
    },
    {
      "cell_type": "code",
      "execution_count": null,
      "metadata": {
        "id": "d7pZS2JcCIHl"
      },
      "outputs": [],
      "source": [
        "#@title {vertical-output: true}\n",
        "\n",
        "print(M)\n",
        "print('Vertices:')\n",
        "print(np.asarray(M.vertices))\n",
        "print('Triangles:')\n",
        "print(np.asarray(M.triangles))\n",
        "\n",
        "self_intersecting = M.is_self_intersecting() # returns True if there exists a triangle in the mesh that is intersecting another mesh.\n",
        "watertight = M.is_watertight()               # A watertight mesh can be seen as a unique, closed surface\n",
        "orientable = M.is_orientable()               # the triangles can be oriented in such a way that all normals point towards the outside.\n",
        "\n",
        "print(f\"  self_intersecting:      {self_intersecting}\")\n",
        "print(f\"  watertight:             {watertight}\")\n",
        "print(f\"  orientable:             {orientable}\")\n",
        "\n",
        "# An example of non-orientable surface: Moebius Strip\n",
        "# https://www.researchgate.net/publication/354157936/figure/fig2/AS:1061263429881856@1630036327084/The-Moebius-strip-is-not-orientable.png"
      ]
    },
    {
      "cell_type": "markdown",
      "metadata": {
        "id": "jjvZfZeyAZ1_"
      },
      "source": [
        "But it has many other fields that you can compute\n",
        "\n",
        "http://www.open3d.org/docs/release/tutorial/geometry/mesh.html"
      ]
    },
    {
      "cell_type": "markdown",
      "metadata": {
        "id": "gyy74tKVAju5"
      },
      "source": [
        "# Synthetic camera view"
      ]
    },
    {
      "cell_type": "markdown",
      "metadata": {
        "id": "6txklN24HEUa"
      },
      "source": [
        "Sometimes we want to generate images from our 3D data. A few interesting applications:\\\n",
        "1) Obtaining visual features (e.g., process them with DINO)\\\n",
        "2) Learning using 2D CNN\\\n",
        "3) Procedurally generating visualizations without manual intervention\n",
        "\n",
        "We will use this mesh"
      ]
    },
    {
      "cell_type": "code",
      "execution_count": null,
      "metadata": {
        "id": "G5j0ae2YCIk7"
      },
      "outputs": [],
      "source": [
        "#@title {vertical-output: true}\n",
        "\n",
        "# Let's load a different shape\n",
        "M = o3d.io.read_triangle_mesh('./CDG/faust_ply/tr_reg_000.ply')\n",
        "verts = np.asarray(M.vertices)\n",
        "faces = np.asarray(M.triangles)\n",
        "\n",
        "\n",
        "verts = np.asarray(M.vertices)  # Vertices\n",
        "faces = np.asarray(M.triangles) # Triangles\n",
        "\n",
        "\n",
        "plot_mesh(verts, faces)"
      ]
    },
    {
      "cell_type": "markdown",
      "source": [
        "Let's see how to do that in Open3D. Maybe it is not the most efficient way (I think pytorch3D has a much better and GPU-ready pipeline), but it is convenient for us."
      ],
      "metadata": {
        "id": "M9Z4koiRSAf0"
      }
    },
    {
      "cell_type": "code",
      "execution_count": null,
      "metadata": {
        "id": "2ctzcx6QByr9"
      },
      "outputs": [],
      "source": [
        "#@title {vertical-output: true}\n",
        "\n",
        "# Open3D requires to create a scene that you want to render\n",
        "scene = o3d.t.geometry.RaycastingScene()\n",
        "mesh = o3d.t.geometry.TriangleMesh.from_legacy(M)\n",
        "_ = scene.add_triangles(mesh)\n",
        "\n",
        "# We create a pinhole camera\n",
        "rays = scene.create_rays_pinhole(fov_deg=60,              #Field of view\n",
        "                                 center=[-1.5,-1.5,-1.5], #Look towards\n",
        "                                 eye=[1,1,1],             #The position of the camera (Look from)\n",
        "                                 up=[0,0,1],              #The up vector - orienting the camera so object is not inverted\n",
        "                                 width_px=1024,           #Resolution\n",
        "                                 height_px=1024)\n",
        "\n",
        "# Then we shoot the rays from our\n",
        "ans = scene.cast_rays(rays)\n",
        "\n",
        "plt.imshow(ans['t_hit'].numpy())\n",
        "plt.show()"
      ]
    },
    {
      "cell_type": "markdown",
      "metadata": {
        "id": "gvee8EevH8j9"
      },
      "source": [
        "We can also decorate the visualization with the normals (and a few other quantities)"
      ]
    },
    {
      "cell_type": "code",
      "execution_count": null,
      "metadata": {
        "id": "8FcM-BXdCz8d"
      },
      "outputs": [],
      "source": [
        "#@title {vertical-output: true}\n",
        "\n",
        "plt.imshow(ans['primitive_normals'].numpy())\n",
        "plt.show()\n",
        "\n",
        "print(ans.keys())"
      ]
    },
    {
      "cell_type": "markdown",
      "metadata": {
        "id": "5bjSZ04hIa0f"
      },
      "source": [
        "I encourage you to load different shapes and change visualization parameters from above (e.g., remove the axes, visualize different functions, use plotly to show normals on the surface, change the pinhole camera perspective, ...)\n"
      ]
    },
    {
      "cell_type": "markdown",
      "source": [
        "## Processing geometry"
      ],
      "metadata": {
        "id": "W4D-Ljl7UlFM"
      }
    },
    {
      "cell_type": "markdown",
      "metadata": {
        "id": "8ZVOuDrKnlxB"
      },
      "source": [
        "Open3D has a full set of operations. For example, a common task is to estimate/reconstruct the underlying surface of a point cloud."
      ]
    },
    {
      "cell_type": "code",
      "execution_count": null,
      "metadata": {
        "id": "GAjxfB5xIxmg"
      },
      "outputs": [],
      "source": [
        "#@title {vertical-output: true}\n",
        "\n",
        "# We get some example data\n",
        "bunny = o3d.data.BunnyMesh()\n",
        "mesh_bunny  = o3d.io.read_triangle_mesh(bunny.path)\n",
        "print(\"Original Mesh\")\n",
        "o3d.visualization.draw_plotly([mesh_bunny])\n",
        "\n",
        "# Let's remove the faces. Are we able to recover the surface?\n",
        "pcd = o3d.geometry.PointCloud(mesh_bunny.vertices)\n",
        "print(\"Input Pointcloud\")\n",
        "o3d.visualization.draw_plotly([pcd])\n",
        "\n",
        "# Alpha shapes are a generalization of the convex hull. Intuitively, it tries to\n",
        "# find the minimal surface that wraps the point cloud.\n",
        "print(\"Algorithm 1: Alpha shape\")\n",
        "alpha = 0.03\n",
        "mesh = o3d.geometry.TriangleMesh.create_from_point_cloud_alpha_shape(pcd, alpha)\n",
        "mesh.compute_vertex_normals()\n",
        "o3d.visualization.draw_plotly([mesh])\n",
        "\n",
        "# Poisson uses the points and the normals of the point cloud to infer\n",
        "# the 0-level set and the gradient of the SDF. First, we use the \"estimate_normals\"\n",
        "# method from the library.\n",
        "print(\"Algorithm 2: Poisson with imperfect normals\")\n",
        "pcd.estimate_normals()\n",
        "mesh, densities = o3d.geometry.TriangleMesh.create_from_point_cloud_poisson(\n",
        "    pcd, depth=9)\n",
        "o3d.visualization.draw_plotly([mesh])\n",
        "\n",
        "# Then, we use the ground-truth normals.\n",
        "print(\"Algorithm 3: Poisson with ground-truth normals\")\n",
        "mesh_bunny.compute_vertex_normals()\n",
        "pcd.normals=mesh_bunny.vertex_normals\n",
        "mesh, densities = o3d.geometry.TriangleMesh.create_from_point_cloud_poisson(\n",
        "    pcd, depth=9)\n",
        "o3d.visualization.draw_plotly([mesh])\n",
        "\n",
        "# Much more here: https://www.open3d.org/docs/latest/tutorial/Advanced/surface_reconstruction.html"
      ]
    },
    {
      "cell_type": "markdown",
      "source": [
        "If we want to study the geometry, we often want to factor out the extrinsic orientation of the shape. Namely, processing geometry should be agnostic from its position in space. Hence, we often want to compute what we call \"intrinsic quantities\"."
      ],
      "metadata": {
        "id": "LqVE-5-iV93D"
      }
    },
    {
      "cell_type": "code",
      "execution_count": null,
      "metadata": {
        "id": "isboJvf8K3di"
      },
      "outputs": [],
      "source": [
        "#@title {vertical-output: true}\n",
        "import copy\n",
        "\n",
        "def calculate_pointcloud_curvature(pcd, radius=0.1, max_nn=30):\n",
        "    pcd_n = copy.deepcopy(pcd)\n",
        "    # Estimate a covariance matrix for every point\n",
        "    pcd_n.estimate_covariances(search_param=o3d.geometry.KDTreeSearchParamHybrid(radius=radius, max_nn=max_nn))\n",
        "    covs = np.asarray(pcd_n.covariances)\n",
        "    vals, vecs = np.linalg.eig(covs)\n",
        "\n",
        "    # The minimum eigenvalue aligns with the the normal direction of a surface.\n",
        "    # If the region is flat, the smallest eigenvalue is small, and so this division goes to 0.\n",
        "    # If the region is curved, there is some variance also in the normal direction.\n",
        "    curvature = np.min(vals, axis=1)/np.sum(vals, axis=1)\n",
        "    return curvature\n",
        "\n",
        "\n",
        "curv = calculate_pointcloud_curvature(pcd)\n",
        "\n",
        "# Visualization\n",
        "verts = np.asarray(mesh_bunny.vertices)\n",
        "faces = np.asarray(mesh_bunny.triangles)\n",
        "plot_mesh(verts, faces, curv)"
      ]
    },
    {
      "cell_type": "markdown",
      "source": [
        "Note that this intrinsic quantitiy is fully computed using solely point cloud extrinsic information: no need for fancy and clean surface! We now verify that the curvature is invariant to the point cloud rotations"
      ],
      "metadata": {
        "id": "XK2WiIJMaxV0"
      }
    },
    {
      "cell_type": "code",
      "source": [
        "#@title {vertical-output: true}\n",
        "\n",
        "# Rotate the original mesh\n",
        "mesh_bunny_rot = copy.deepcopy(mesh_bunny)\n",
        "mesh_bunny_rot.rotate(mesh_bunny_rot.get_rotation_matrix_from_xyz((np.pi / 2, 0, np.pi / 4)),\n",
        "              center=(0, 0, 0))\n",
        "\n",
        "# Get the point cloud\n",
        "pcd = o3d.geometry.PointCloud(mesh_bunny_rot.vertices)\n",
        "\n",
        "# Get the curvature\n",
        "curv_rot = calculate_pointcloud_curvature(pcd)\n",
        "\n",
        "# Visualization\n",
        "verts = np.asarray(mesh_bunny_rot.vertices)\n",
        "faces = np.asarray(mesh_bunny_rot.triangles)\n",
        "plot_mesh(verts, faces, curv)\n",
        "\n",
        "# MSE between the two computations\n",
        "print(np.sum((curv-curv_rot)**2))"
      ],
      "metadata": {
        "id": "5SH74LZ2Ww0P"
      },
      "execution_count": null,
      "outputs": []
    },
    {
      "cell_type": "markdown",
      "source": [
        "# Conversions between Representations"
      ],
      "metadata": {
        "id": "s-Vueo04b5-9"
      }
    },
    {
      "cell_type": "markdown",
      "metadata": {
        "id": "ozLB_narGQXD"
      },
      "source": [
        "An intersting task is also to convert between different representations. For example, converting a mesh into a signed distance function (SDF). Let's visualize our mesh. I decided to visualize the wireframe (i.e., the edges of the triangles will be explicitly shown)"
      ]
    },
    {
      "cell_type": "code",
      "execution_count": null,
      "metadata": {
        "id": "GdjhNl2AGUFp"
      },
      "outputs": [],
      "source": [
        "#@title {vertical-output: true}\n",
        "# We load a watertight mesh and we normalize it\n",
        "M = o3d.io.read_triangle_mesh('./CDG/faust_ply/tr_reg_000.ply')\n",
        "vertices = np.asarray(M.vertices)\n",
        "vertices = (vertices - np.min(vertices))/(np.max(vertices) - np.min(vertices))\n",
        "M.vertices = o3d.utility.Vector3dVector(vertices)\n",
        "faces = np.asarray(M.triangles)\n",
        "\n",
        "#@title {vertical-output: true}\n",
        "# Subplot\n",
        "fig = make_subplots(\n",
        "          rows=1, cols=1,\n",
        "          subplot_titles=(''),\n",
        "          horizontal_spacing=0.02,\n",
        "          specs=[[{\"type\": \"scene\"}]])\n",
        "\n",
        "tri_vertices = vertices[faces]\n",
        "Xe = []\n",
        "Ye = []\n",
        "Ze = []\n",
        "for T in tri_vertices:\n",
        "    Xe += [T[k%3][0] for k in range(4)] + [ None]\n",
        "    Ye += [T[k%3][1] for k in range(4)] + [ None]\n",
        "    Ze += [T[k%3][2] for k in range(4)] + [ None]\n",
        "\n",
        "# Plot 1 - Just visualize the mesh grid\n",
        "fig.add_trace(go.Scatter3d(x=Xe,\n",
        "                     y=Ye,\n",
        "                     z=Ze,\n",
        "                     mode='lines',\n",
        "                     name='',\n",
        "                     line=dict(color= 'rgb(40,40,40)', width=0.5)), 1, 1);\n",
        "# Camera and visualization layouts\n",
        "fig.update_layout(width=1200, height=600, font_size=10)\n",
        "fig.get_subplot(1, 1).aspectmode = \"data\"\n",
        "fig.update_scenes(camera_eye_x=1.45, camera_eye_y=1.45, camera_eye_z=1.45);\n",
        "\n",
        "fig.show()\n"
      ]
    },
    {
      "cell_type": "markdown",
      "source": [
        "Casting ray is a basic technique to check if a point is inside or outside. One can just check the intersections between a ray and the mesh triangles."
      ],
      "metadata": {
        "id": "k0CrY6TLcMVQ"
      }
    },
    {
      "cell_type": "code",
      "execution_count": null,
      "metadata": {
        "id": "4ew58adTHfmH"
      },
      "outputs": [],
      "source": [
        "#@title {vertical-output: true}\n",
        "\n",
        "# o3d.t is a set of library tools that uses tensors\n",
        "mesh = o3d.t.geometry.TriangleMesh.from_legacy(M)\n",
        "\n",
        "# This provides basic ray casting functionality.\n",
        "scene = o3d.t.geometry.RaycastingScene()\n",
        "\n",
        "# Add our triangle mesh to the scene\n",
        "_ = scene.add_triangles(mesh)"
      ]
    },
    {
      "cell_type": "markdown",
      "source": [
        "We can query any point in space and check if it is inside or outside, and how distant it is from the surface."
      ],
      "metadata": {
        "id": "4mx-vi-CdJ3D"
      }
    },
    {
      "cell_type": "code",
      "execution_count": null,
      "metadata": {
        "id": "3RWi8sySHjOc"
      },
      "outputs": [],
      "source": [
        "#@title {vertical-output: true}\n",
        "\n",
        "# Take the mesh central point\n",
        "mean_vertices = np.mean(vertices,axis=0)[np.newaxis]\n",
        "\n",
        "# And we use it as a query point\n",
        "query_point = o3d.core.Tensor(mean_vertices, dtype=o3d.core.Dtype.Float32)\n",
        "\n",
        "# Obtain unsigned distance\n",
        "unsigned_distance = scene.compute_distance(query_point)\n",
        "\n",
        "# Obtain signed distance\n",
        "signed_distance = scene.compute_signed_distance(query_point)\n",
        "\n",
        "# Is the point inside the shape?\n",
        "occupancy = scene.compute_occupancy(query_point)\n",
        "\n",
        "print(\"unsigned distance\", unsigned_distance.numpy())\n",
        "print(\"signed_distance\", signed_distance.numpy())\n",
        "print(\"occupancy\", occupancy.numpy())"
      ]
    },
    {
      "cell_type": "markdown",
      "source": [
        "To visualize volumetric representation we need a volumentric visualization."
      ],
      "metadata": {
        "id": "UeXny9pvhiQy"
      }
    },
    {
      "cell_type": "code",
      "source": [
        "# Set the centers\n",
        "fig = plt.figure()\n",
        "ax = fig.add_subplot(projection='3d')\n",
        "nc = 16\n",
        "\n",
        "# Visualize a 16 x 16 x 16 grid\n",
        "one = np.ones((nc, nc, nc))\n",
        "\n",
        "# Grid creation\n",
        "xc = np.arange(1, nc+1) - .5\n",
        "yc = np.arange(1, nc+1) - .5\n",
        "zc = np.arange(1, nc+1) - .5\n",
        "xc_, yc_, zc_ = np.meshgrid(xc, yc, zc)\n",
        "ax.scatter(xc_.ravel(), yc_.ravel(), zc_.ravel(), marker = 10, c = 'r', s = 100) # Voxel Centers\n",
        "ax.voxels(one, alpha = 0.12, edgecolor=\"k\", shade=True) # Voxels\n",
        "plt.tight_layout()\n",
        "ax.set_title('Voxels and Voxel centers')\n",
        "plt.show()"
      ],
      "metadata": {
        "id": "Wws3ipTfgsNW"
      },
      "execution_count": null,
      "outputs": []
    },
    {
      "cell_type": "markdown",
      "source": [
        "Here we visualize the occupancy, so every occupied cell will be solid, while the rest will be fully transparent."
      ],
      "metadata": {
        "id": "rweA5LEgiPUt"
      }
    },
    {
      "cell_type": "code",
      "execution_count": null,
      "metadata": {
        "id": "jAbk6Az-Ixyt"
      },
      "outputs": [],
      "source": [
        "#@title {vertical-output: true}\n",
        "\n",
        "##### Visualize Occupancy\n",
        "query_coords = np.vstack((xc_.ravel(), yc_.ravel(), zc_.ravel())).T/nc\n",
        "query_point = o3d.core.Tensor(query_coords, dtype=o3d.core.Dtype.Float32)\n",
        "\n",
        "signed_distance = scene.compute_signed_distance(query_point)\n",
        "signed_distance = signed_distance.numpy().reshape((nc,nc,nc))\n",
        "\n",
        "# Everything below a certain value is considered inside\n",
        "threshold =  (np.cbrt(3) *  1/nc)/2\n",
        "\n",
        "occ = signed_distance < threshold\n",
        "\n",
        "fig = plt.figure()\n",
        "ax = plt.gca()\n",
        "ax = fig.add_subplot(projection='3d')\n",
        "ax.voxels(occ, alpha = 0.9, edgecolor=\"k\", shade=True) # Voxel visualization\n",
        "ax.set_title('Occupancy')\n",
        "\n",
        "ax.set_xlim([0, nc])\n",
        "ax.set_ylim([0, nc])\n",
        "ax.set_zlim([0, nc])\n",
        "plt.show()"
      ]
    },
    {
      "cell_type": "markdown",
      "source": [
        "To visualize the SDF is a bit more complicated, as all the points in R^3 have a meaning. A strategy is to visualize just some level-sets. To do so, we extract the respective meshes"
      ],
      "metadata": {
        "id": "WA3WyUEMjoqU"
      }
    },
    {
      "cell_type": "code",
      "execution_count": null,
      "metadata": {
        "id": "V7hS9EAPIzb9",
        "collapsed": true
      },
      "outputs": [],
      "source": [
        "#@title {vertical-output: true}\n",
        "\n",
        "ls = [0.01, 0.02, 0.05]\n",
        "\n",
        "# Subplot\n",
        "fig = make_subplots(\n",
        "          rows=1, cols=len(ls),\n",
        "          subplot_titles=(''),\n",
        "          horizontal_spacing=0.02,\n",
        "          specs=[[{\"type\": \"scene\"}]* len(ls)])\n",
        "\n",
        "##### From SDF to mesh\n",
        "for level_set, subp in zip(ls, np.arange(1,len(ls)+1)):\n",
        "  vertices, faces, normals, _ = skimage.measure.marching_cubes(signed_distance, level=level_set)\n",
        "  Mesh = o3d.geometry.TriangleMesh(o3d.utility.Vector3dVector(vertices),o3d.utility.Vector3iVector(faces))\n",
        "\n",
        "  vertices = np.asarray(Mesh.vertices)\n",
        "  faces = np.asarray(Mesh.triangles)\n",
        "  x, y, z  = vertices.T\n",
        "  i, j, k = faces.T\n",
        "\n",
        "  tri_vertices = vertices[faces]\n",
        "  Xe = []\n",
        "  Ye = []\n",
        "  Ze = []\n",
        "  for T in tri_vertices:\n",
        "      Xe += [T[k%3][0] for k in range(4)] + [ None]\n",
        "      Ye += [T[k%3][1] for k in range(4)] + [ None]\n",
        "      Ze += [T[k%3][2] for k in range(4)] + [ None]\n",
        "\n",
        "\n",
        "  # Plot 1 - Just visualize the mesh grid\n",
        "  lighting = dict(ambient=0.5,\n",
        "                  diffuse=1,\n",
        "                  fresnel=4,\n",
        "                  specular=0.5,\n",
        "                  roughness=0.05,\n",
        "                  facenormalsepsilon=0)\n",
        "\n",
        "  lightposition=dict(x=100,\n",
        "                    y=100,\n",
        "                    z=10000)\n",
        "\n",
        "  fig.add_trace(go.Mesh3d(x=x, y=y, z=z,\n",
        "                          i=i, j=j, k=k, colorscale='matter_r' ,\n",
        "                          colorbar_len=0.85,\n",
        "                          colorbar_x=0.625,\n",
        "                          intensity=z, intensitymode='vertex',\n",
        "                          flatshading=True), 1, subp);\n",
        "\n",
        "  # Camera and visualization layouts\n",
        "  fig.update_layout(width=1200, height=600, font_size=10)\n",
        "  fig.update_traces(showscale=False)\n",
        "  fig.get_subplot(1, int(subp)).aspectmode = \"data\"\n",
        "fig.show()\n"
      ]
    }
  ],
  "metadata": {
    "colab": {
      "provenance": []
    },
    "kernelspec": {
      "display_name": "Python 3",
      "name": "python3"
    },
    "language_info": {
      "name": "python"
    }
  },
  "nbformat": 4,
  "nbformat_minor": 0
}